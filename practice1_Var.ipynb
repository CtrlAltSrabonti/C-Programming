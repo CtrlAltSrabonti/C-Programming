{
  "nbformat": 4,
  "nbformat_minor": 0,
  "metadata": {
    "colab": {
      "provenance": [],
      "authorship_tag": "ABX9TyM4LtyL8xuVzfp9NBnDRFOl",
      "include_colab_link": true
    },
    "kernelspec": {
      "name": "python3",
      "display_name": "Python 3"
    },
    "language_info": {
      "name": "python"
    }
  },
  "cells": [
    {
      "cell_type": "markdown",
      "metadata": {
        "id": "view-in-github",
        "colab_type": "text"
      },
      "source": [
        "<a href=\"https://colab.research.google.com/github/DataExplorerSB/C-Programming/blob/main/practice1_Var.ipynb\" target=\"_parent\"><img src=\"https://colab.research.google.com/assets/colab-badge.svg\" alt=\"Open In Colab\"/></a>"
      ]
    },
    {
      "cell_type": "code",
      "execution_count": 3,
      "metadata": {
        "colab": {
          "base_uri": "https://localhost:8080/"
        },
        "id": "ycqfLBDdGS0R",
        "outputId": "656e7768-0d72-4816-a2f5-5141d1c97298"
      },
      "outputs": [
        {
          "output_type": "stream",
          "name": "stdout",
          "text": [
            "Writing practice1.c\n"
          ]
        }
      ],
      "source": [
        "%%writefile practice1.c\n",
        "#include<stdio.h>\n",
        "\n",
        "//using inputs supplied by the user\n",
        "int main(){\n",
        "  int length, breadth;\n",
        "  printf(\"What is the length of the rectangle\\n\");\n",
        "  scanf(\"%d\", &length);\n",
        "\n",
        "  printf(\"What is the breadth of the rectangle\\n\");\n",
        "  scanf(\"%d\", &breadth);\n",
        "\n",
        "  printf(\"The area of your rectangle is %d\", length*breadth);\n",
        "  return 0;\n",
        "}"
      ]
    },
    {
      "cell_type": "code",
      "source": [
        "!gcc practice1.c\n",
        "!./a.out"
      ],
      "metadata": {
        "colab": {
          "base_uri": "https://localhost:8080/"
        },
        "id": "QhE93WNYchKQ",
        "outputId": "3a30c23c-319c-48d3-8f61-fb939b4e7aa0"
      },
      "execution_count": 6,
      "outputs": [
        {
          "output_type": "stream",
          "name": "stdout",
          "text": [
            "What is the length of the rectangle\n",
            "12\n",
            "What is the breadth of the rectangle\n",
            "22\n",
            "The area of your rectangle is 264"
          ]
        }
      ]
    }
  ]
}